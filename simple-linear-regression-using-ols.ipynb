{
 "cells": [
  {
   "cell_type": "markdown",
   "id": "87edaab4",
   "metadata": {
    "papermill": {
     "duration": 0.008194,
     "end_time": "2023-04-15T05:47:28.599473",
     "exception": false,
     "start_time": "2023-04-15T05:47:28.591279",
     "status": "completed"
    },
    "tags": []
   },
   "source": [
    "# **SIMPLE LINEAR REGRESSION USING ORDINARY LEAST SQUARES**"
   ]
  },
  {
   "cell_type": "markdown",
   "id": "467bf0da",
   "metadata": {
    "papermill": {
     "duration": 0.007117,
     "end_time": "2023-04-15T05:47:28.614211",
     "exception": false,
     "start_time": "2023-04-15T05:47:28.607094",
     "status": "completed"
    },
    "tags": []
   },
   "source": [
    "# [Kaggle](https://www.kaggle.com/code/avd1729/simple-linear-regression-using-ols)"
   ]
  },
  {
   "cell_type": "markdown",
   "id": "9b5c8a05",
   "metadata": {
    "papermill": {
     "duration": 0.00707,
     "end_time": "2023-04-15T05:47:28.628802",
     "exception": false,
     "start_time": "2023-04-15T05:47:28.621732",
     "status": "completed"
    },
    "tags": []
   },
   "source": [
    "# **Setting up the environment**"
   ]
  },
  {
   "cell_type": "code",
   "execution_count": 1,
   "id": "b15328a3",
   "metadata": {
    "execution": {
     "iopub.execute_input": "2023-04-15T05:47:28.646313Z",
     "iopub.status.busy": "2023-04-15T05:47:28.645484Z",
     "iopub.status.idle": "2023-04-15T05:47:28.656383Z",
     "shell.execute_reply": "2023-04-15T05:47:28.655163Z"
    },
    "papermill": {
     "duration": 0.022599,
     "end_time": "2023-04-15T05:47:28.659002",
     "exception": false,
     "start_time": "2023-04-15T05:47:28.636403",
     "status": "completed"
    },
    "tags": []
   },
   "outputs": [],
   "source": [
    "import numpy as np\n",
    "import pandas as pd"
   ]
  },
  {
   "cell_type": "code",
   "execution_count": 2,
   "id": "c96f20ac",
   "metadata": {
    "execution": {
     "iopub.execute_input": "2023-04-15T05:47:28.675398Z",
     "iopub.status.busy": "2023-04-15T05:47:28.674939Z",
     "iopub.status.idle": "2023-04-15T05:47:28.704479Z",
     "shell.execute_reply": "2023-04-15T05:47:28.703331Z"
    },
    "papermill": {
     "duration": 0.040598,
     "end_time": "2023-04-15T05:47:28.706976",
     "exception": false,
     "start_time": "2023-04-15T05:47:28.666378",
     "status": "completed"
    },
    "tags": []
   },
   "outputs": [],
   "source": [
    "data = pd.read_csv(\"/kaggle/input/salary-data-simple-linear-regression/Salary_Data.csv\")"
   ]
  },
  {
   "cell_type": "markdown",
   "id": "82b84cf7",
   "metadata": {
    "papermill": {
     "duration": 0.007122,
     "end_time": "2023-04-15T05:47:28.721769",
     "exception": false,
     "start_time": "2023-04-15T05:47:28.714647",
     "status": "completed"
    },
    "tags": []
   },
   "source": [
    "# **Building a regression model**"
   ]
  },
  {
   "cell_type": "code",
   "execution_count": 3,
   "id": "5d4a16e0",
   "metadata": {
    "execution": {
     "iopub.execute_input": "2023-04-15T05:47:28.738981Z",
     "iopub.status.busy": "2023-04-15T05:47:28.738333Z",
     "iopub.status.idle": "2023-04-15T05:47:28.765016Z",
     "shell.execute_reply": "2023-04-15T05:47:28.763148Z"
    },
    "papermill": {
     "duration": 0.038054,
     "end_time": "2023-04-15T05:47:28.767355",
     "exception": false,
     "start_time": "2023-04-15T05:47:28.729301",
     "status": "completed"
    },
    "tags": []
   },
   "outputs": [
    {
     "name": "stdout",
     "output_type": "stream",
     "text": [
      "<class 'pandas.core.frame.DataFrame'>\n",
      "RangeIndex: 30 entries, 0 to 29\n",
      "Data columns (total 2 columns):\n",
      " #   Column           Non-Null Count  Dtype  \n",
      "---  ------           --------------  -----  \n",
      " 0   YearsExperience  30 non-null     float64\n",
      " 1   Salary           30 non-null     float64\n",
      "dtypes: float64(2)\n",
      "memory usage: 608.0 bytes\n"
     ]
    }
   ],
   "source": [
    "data.info()"
   ]
  },
  {
   "cell_type": "code",
   "execution_count": 4,
   "id": "e0e2c0ea",
   "metadata": {
    "execution": {
     "iopub.execute_input": "2023-04-15T05:47:28.784640Z",
     "iopub.status.busy": "2023-04-15T05:47:28.784218Z",
     "iopub.status.idle": "2023-04-15T05:47:31.184129Z",
     "shell.execute_reply": "2023-04-15T05:47:31.182049Z"
    },
    "papermill": {
     "duration": 2.411386,
     "end_time": "2023-04-15T05:47:31.187062",
     "exception": false,
     "start_time": "2023-04-15T05:47:28.775676",
     "status": "completed"
    },
    "tags": []
   },
   "outputs": [
    {
     "data": {
      "text/html": [
       "<div>\n",
       "<style scoped>\n",
       "    .dataframe tbody tr th:only-of-type {\n",
       "        vertical-align: middle;\n",
       "    }\n",
       "\n",
       "    .dataframe tbody tr th {\n",
       "        vertical-align: top;\n",
       "    }\n",
       "\n",
       "    .dataframe thead th {\n",
       "        text-align: right;\n",
       "    }\n",
       "</style>\n",
       "<table border=\"1\" class=\"dataframe\">\n",
       "  <thead>\n",
       "    <tr style=\"text-align: right;\">\n",
       "      <th></th>\n",
       "      <th>const</th>\n",
       "      <th>YearsExperience</th>\n",
       "    </tr>\n",
       "  </thead>\n",
       "  <tbody>\n",
       "    <tr>\n",
       "      <th>0</th>\n",
       "      <td>1.0</td>\n",
       "      <td>1.1</td>\n",
       "    </tr>\n",
       "    <tr>\n",
       "      <th>1</th>\n",
       "      <td>1.0</td>\n",
       "      <td>1.3</td>\n",
       "    </tr>\n",
       "    <tr>\n",
       "      <th>2</th>\n",
       "      <td>1.0</td>\n",
       "      <td>1.5</td>\n",
       "    </tr>\n",
       "    <tr>\n",
       "      <th>3</th>\n",
       "      <td>1.0</td>\n",
       "      <td>2.0</td>\n",
       "    </tr>\n",
       "    <tr>\n",
       "      <th>4</th>\n",
       "      <td>1.0</td>\n",
       "      <td>2.2</td>\n",
       "    </tr>\n",
       "  </tbody>\n",
       "</table>\n",
       "</div>"
      ],
      "text/plain": [
       "   const  YearsExperience\n",
       "0    1.0              1.1\n",
       "1    1.0              1.3\n",
       "2    1.0              1.5\n",
       "3    1.0              2.0\n",
       "4    1.0              2.2"
      ]
     },
     "execution_count": 4,
     "metadata": {},
     "output_type": "execute_result"
    }
   ],
   "source": [
    "import statsmodels.api as sm\n",
    "X = sm.add_constant(data['YearsExperience'])\n",
    "X.head(5)"
   ]
  },
  {
   "cell_type": "code",
   "execution_count": 5,
   "id": "79b11aea",
   "metadata": {
    "execution": {
     "iopub.execute_input": "2023-04-15T05:47:31.205076Z",
     "iopub.status.busy": "2023-04-15T05:47:31.204126Z",
     "iopub.status.idle": "2023-04-15T05:47:31.208570Z",
     "shell.execute_reply": "2023-04-15T05:47:31.207703Z"
    },
    "papermill": {
     "duration": 0.015627,
     "end_time": "2023-04-15T05:47:31.210655",
     "exception": false,
     "start_time": "2023-04-15T05:47:31.195028",
     "status": "completed"
    },
    "tags": []
   },
   "outputs": [],
   "source": [
    "y = data['Salary']"
   ]
  },
  {
   "cell_type": "markdown",
   "id": "92f2e583",
   "metadata": {
    "papermill": {
     "duration": 0.007801,
     "end_time": "2023-04-15T05:47:31.226060",
     "exception": false,
     "start_time": "2023-04-15T05:47:31.218259",
     "status": "completed"
    },
    "tags": []
   },
   "source": [
    "# **Train-Test Split**"
   ]
  },
  {
   "cell_type": "code",
   "execution_count": 6,
   "id": "644a9852",
   "metadata": {
    "execution": {
     "iopub.execute_input": "2023-04-15T05:47:31.243046Z",
     "iopub.status.busy": "2023-04-15T05:47:31.242645Z",
     "iopub.status.idle": "2023-04-15T05:47:31.400960Z",
     "shell.execute_reply": "2023-04-15T05:47:31.399665Z"
    },
    "papermill": {
     "duration": 0.170018,
     "end_time": "2023-04-15T05:47:31.403694",
     "exception": false,
     "start_time": "2023-04-15T05:47:31.233676",
     "status": "completed"
    },
    "tags": []
   },
   "outputs": [],
   "source": [
    "from sklearn.model_selection import train_test_split\n",
    "X_train , X_test , y_train , y_test = train_test_split(X , y ,train_size = 0.7 , random_state = 42)"
   ]
  },
  {
   "cell_type": "code",
   "execution_count": 7,
   "id": "6fd36f44",
   "metadata": {
    "execution": {
     "iopub.execute_input": "2023-04-15T05:47:31.420730Z",
     "iopub.status.busy": "2023-04-15T05:47:31.420330Z",
     "iopub.status.idle": "2023-04-15T05:47:31.440375Z",
     "shell.execute_reply": "2023-04-15T05:47:31.439249Z"
    },
    "papermill": {
     "duration": 0.031025,
     "end_time": "2023-04-15T05:47:31.442558",
     "exception": false,
     "start_time": "2023-04-15T05:47:31.411533",
     "status": "completed"
    },
    "tags": []
   },
   "outputs": [],
   "source": [
    "salary_lm = sm.OLS(y_train , X_train).fit()"
   ]
  },
  {
   "cell_type": "markdown",
   "id": "dc6c3e64",
   "metadata": {
    "papermill": {
     "duration": 0.007265,
     "end_time": "2023-04-15T05:47:31.457290",
     "exception": false,
     "start_time": "2023-04-15T05:47:31.450025",
     "status": "completed"
    },
    "tags": []
   },
   "source": [
    "# **Model Diagnostics**"
   ]
  },
  {
   "cell_type": "code",
   "execution_count": 8,
   "id": "a7c3d1b8",
   "metadata": {
    "execution": {
     "iopub.execute_input": "2023-04-15T05:47:31.473666Z",
     "iopub.status.busy": "2023-04-15T05:47:31.473279Z",
     "iopub.status.idle": "2023-04-15T05:47:31.481727Z",
     "shell.execute_reply": "2023-04-15T05:47:31.480170Z"
    },
    "papermill": {
     "duration": 0.019625,
     "end_time": "2023-04-15T05:47:31.484293",
     "exception": false,
     "start_time": "2023-04-15T05:47:31.464668",
     "status": "completed"
    },
    "tags": []
   },
   "outputs": [
    {
     "data": {
      "text/plain": [
       "const              25918.438335\n",
       "YearsExperience     9339.081724\n",
       "dtype: float64"
      ]
     },
     "execution_count": 8,
     "metadata": {},
     "output_type": "execute_result"
    }
   ],
   "source": [
    "salary_lm.params"
   ]
  },
  {
   "cell_type": "code",
   "execution_count": 9,
   "id": "730ada8f",
   "metadata": {
    "execution": {
     "iopub.execute_input": "2023-04-15T05:47:31.501881Z",
     "iopub.status.busy": "2023-04-15T05:47:31.501494Z",
     "iopub.status.idle": "2023-04-15T05:47:31.537731Z",
     "shell.execute_reply": "2023-04-15T05:47:31.536503Z"
    },
    "papermill": {
     "duration": 0.048237,
     "end_time": "2023-04-15T05:47:31.540649",
     "exception": false,
     "start_time": "2023-04-15T05:47:31.492412",
     "status": "completed"
    },
    "tags": []
   },
   "outputs": [
    {
     "data": {
      "text/html": [
       "<table class=\"simpletable\">\n",
       "<tr>\n",
       "        <td>Model:</td>               <td>OLS</td>         <td>Adj. R-squared:</td>      <td>0.955</td>  \n",
       "</tr>\n",
       "<tr>\n",
       "  <td>Dependent Variable:</td>      <td>Salary</td>             <td>AIC:</td>          <td>424.3780</td> \n",
       "</tr>\n",
       "<tr>\n",
       "         <td>Date:</td>        <td>2023-04-15 05:47</td>        <td>BIC:</td>          <td>426.4670</td> \n",
       "</tr>\n",
       "<tr>\n",
       "   <td>No. Observations:</td>         <td>21</td>          <td>Log-Likelihood:</td>     <td>-210.19</td> \n",
       "</tr>\n",
       "<tr>\n",
       "       <td>Df Model:</td>              <td>1</td>           <td>F-statistic:</td>        <td>427.6</td>  \n",
       "</tr>\n",
       "<tr>\n",
       "     <td>Df Residuals:</td>           <td>19</td>        <td>Prob (F-statistic):</td>  <td>1.74e-14</td> \n",
       "</tr>\n",
       "<tr>\n",
       "      <td>R-squared:</td>            <td>0.957</td>            <td>Scale:</td>        <td>3.1967e+07</td>\n",
       "</tr>\n",
       "</table>\n",
       "<table class=\"simpletable\">\n",
       "<tr>\n",
       "         <td></td>            <th>Coef.</th>   <th>Std.Err.</th>     <th>t</th>     <th>P>|t|</th>   <th>[0.025</th>     <th>0.975]</th>  \n",
       "</tr>\n",
       "<tr>\n",
       "  <th>const</th>           <td>25918.4383</td> <td>2507.5217</td> <td>10.3363</td> <td>0.0000</td> <td>20670.1352</td> <td>31166.7415</td>\n",
       "</tr>\n",
       "<tr>\n",
       "  <th>YearsExperience</th>  <td>9339.0817</td> <td>451.6530</td>  <td>20.6776</td> <td>0.0000</td>  <td>8393.7612</td> <td>10284.4023</td>\n",
       "</tr>\n",
       "</table>\n",
       "<table class=\"simpletable\">\n",
       "<tr>\n",
       "     <td>Omnibus:</td>    <td>0.532</td>  <td>Durbin-Watson:</td>   <td>1.883</td>\n",
       "</tr>\n",
       "<tr>\n",
       "  <td>Prob(Omnibus):</td> <td>0.766</td> <td>Jarque-Bera (JB):</td> <td>0.625</td>\n",
       "</tr>\n",
       "<tr>\n",
       "       <td>Skew:</td>     <td>0.281</td>     <td>Prob(JB):</td>     <td>0.732</td>\n",
       "</tr>\n",
       "<tr>\n",
       "     <td>Kurtosis:</td>   <td>2.368</td>  <td>Condition No.:</td>    <td>12</td>  \n",
       "</tr>\n",
       "</table>"
      ],
      "text/plain": [
       "<class 'statsmodels.iolib.summary2.Summary'>\n",
       "\"\"\"\n",
       "                     Results: Ordinary least squares\n",
       "=========================================================================\n",
       "Model:                OLS                Adj. R-squared:       0.955     \n",
       "Dependent Variable:   Salary             AIC:                  424.3780  \n",
       "Date:                 2023-04-15 05:47   BIC:                  426.4670  \n",
       "No. Observations:     21                 Log-Likelihood:       -210.19   \n",
       "Df Model:             1                  F-statistic:          427.6     \n",
       "Df Residuals:         19                 Prob (F-statistic):   1.74e-14  \n",
       "R-squared:            0.957              Scale:                3.1967e+07\n",
       "-------------------------------------------------------------------------\n",
       "                  Coef.     Std.Err.    t    P>|t|    [0.025     0.975]  \n",
       "-------------------------------------------------------------------------\n",
       "const           25918.4383 2507.5217 10.3363 0.0000 20670.1352 31166.7415\n",
       "YearsExperience  9339.0817  451.6530 20.6776 0.0000  8393.7612 10284.4023\n",
       "-------------------------------------------------------------------------\n",
       "Omnibus:                  0.532          Durbin-Watson:             1.883\n",
       "Prob(Omnibus):            0.766          Jarque-Bera (JB):          0.625\n",
       "Skew:                     0.281          Prob(JB):                  0.732\n",
       "Kurtosis:                 2.368          Condition No.:             12   \n",
       "=========================================================================\n",
       "\n",
       "\"\"\""
      ]
     },
     "execution_count": 9,
     "metadata": {},
     "output_type": "execute_result"
    }
   ],
   "source": [
    "salary_lm.summary2()"
   ]
  },
  {
   "cell_type": "markdown",
   "id": "15cb85b1",
   "metadata": {
    "papermill": {
     "duration": 0.007291,
     "end_time": "2023-04-15T05:47:31.555913",
     "exception": false,
     "start_time": "2023-04-15T05:47:31.548622",
     "status": "completed"
    },
    "tags": []
   },
   "source": [
    "# **Residual analysis**"
   ]
  },
  {
   "cell_type": "code",
   "execution_count": 10,
   "id": "cf5ec3c1",
   "metadata": {
    "execution": {
     "iopub.execute_input": "2023-04-15T05:47:31.573218Z",
     "iopub.status.busy": "2023-04-15T05:47:31.572584Z",
     "iopub.status.idle": "2023-04-15T05:47:31.848232Z",
     "shell.execute_reply": "2023-04-15T05:47:31.846702Z"
    },
    "papermill": {
     "duration": 0.287668,
     "end_time": "2023-04-15T05:47:31.851038",
     "exception": false,
     "start_time": "2023-04-15T05:47:31.563370",
     "status": "completed"
    },
    "tags": []
   },
   "outputs": [],
   "source": [
    "import matplotlib.pyplot as plt\n",
    "import seaborn as sn\n",
    "%matplotlib inline"
   ]
  },
  {
   "cell_type": "markdown",
   "id": "4ea69ae1",
   "metadata": {
    "papermill": {
     "duration": 0.007709,
     "end_time": "2023-04-15T05:47:31.867098",
     "exception": false,
     "start_time": "2023-04-15T05:47:31.859389",
     "status": "completed"
    },
    "tags": []
   },
   "source": [
    "# **1.Check for Normal Distribution of Residual**"
   ]
  },
  {
   "cell_type": "code",
   "execution_count": 11,
   "id": "21835212",
   "metadata": {
    "execution": {
     "iopub.execute_input": "2023-04-15T05:47:31.884726Z",
     "iopub.status.busy": "2023-04-15T05:47:31.884369Z",
     "iopub.status.idle": "2023-04-15T05:47:32.048065Z",
     "shell.execute_reply": "2023-04-15T05:47:32.047364Z"
    },
    "papermill": {
     "duration": 0.174729,
     "end_time": "2023-04-15T05:47:32.049990",
     "exception": false,
     "start_time": "2023-04-15T05:47:31.875261",
     "status": "completed"
    },
    "tags": []
   },
   "outputs": [
    {
     "data": {
      "text/plain": [
       "<Figure size 1000x800 with 0 Axes>"
      ]
     },
     "metadata": {},
     "output_type": "display_data"
    },
    {
     "data": {
      "image/png": "[encoded data removed]",
      "text/plain": [
       "<Figure size 640x480 with 1 Axes>"
      ]
     },
     "metadata": {},
     "output_type": "display_data"
    }
   ],
   "source": [
    "from scipy import stats\n",
    "\n",
    "resid = salary_lm.resid\n",
    "probplot = sm.ProbPlot(np.array(resid))\n",
    "plt.figure(figsize=(10,8))\n",
    "probplot.ppplot(line='45')\n",
    "plt.show()"
   ]
  },
  {
   "cell_type": "markdown",
   "id": "32939556",
   "metadata": {
    "papermill": {
     "duration": 0.008268,
     "end_time": "2023-04-15T05:47:32.066859",
     "exception": false,
     "start_time": "2023-04-15T05:47:32.058591",
     "status": "completed"
    },
    "tags": []
   },
   "source": [
    " >  We find that the residuals doesn't follow normal distribution , this maybe due to outliers or insufficient data "
   ]
  },
  {
   "cell_type": "markdown",
   "id": "902e51d7",
   "metadata": {
    "papermill": {
     "duration": 0.008168,
     "end_time": "2023-04-15T05:47:32.084780",
     "exception": false,
     "start_time": "2023-04-15T05:47:32.076612",
     "status": "completed"
    },
    "tags": []
   },
   "source": [
    "# **2.Test for Homoscedasticity**"
   ]
  },
  {
   "cell_type": "code",
   "execution_count": 12,
   "id": "e318252b",
   "metadata": {
    "execution": {
     "iopub.execute_input": "2023-04-15T05:47:32.103666Z",
     "iopub.status.busy": "2023-04-15T05:47:32.103309Z",
     "iopub.status.idle": "2023-04-15T05:47:32.108076Z",
     "shell.execute_reply": "2023-04-15T05:47:32.107248Z"
    },
    "papermill": {
     "duration": 0.016302,
     "end_time": "2023-04-15T05:47:32.109910",
     "exception": false,
     "start_time": "2023-04-15T05:47:32.093608",
     "status": "completed"
    },
    "tags": []
   },
   "outputs": [],
   "source": [
    "def get_standarized_values(vals):\n",
    "    return (vals - vals.mean())/vals.std()"
   ]
  },
  {
   "cell_type": "code",
   "execution_count": 13,
   "id": "f158a8d8",
   "metadata": {
    "execution": {
     "iopub.execute_input": "2023-04-15T05:47:32.129319Z",
     "iopub.status.busy": "2023-04-15T05:47:32.128380Z",
     "iopub.status.idle": "2023-04-15T05:47:32.294172Z",
     "shell.execute_reply": "2023-04-15T05:47:32.292836Z"
    },
    "papermill": {
     "duration": 0.17771,
     "end_time": "2023-04-15T05:47:32.296222",
     "exception": false,
     "start_time": "2023-04-15T05:47:32.118512",
     "status": "completed"
    },
    "tags": []
   },
   "outputs": [
    {
     "data": {
      "image/png": "[encoded data removed]",
      "text/plain": [
       "<Figure size 640x480 with 1 Axes>"
      ]
     },
     "metadata": {},
     "output_type": "display_data"
    }
   ],
   "source": [
    "plt.scatter(get_standarized_values(salary_lm.fittedvalues) , get_standarized_values(resid))\n",
    "plt.xlabel(\"Standarized predicted values\")\n",
    "plt.ylabel(\"Standarized Residuals\")\n",
    "plt.show()"
   ]
  },
  {
   "cell_type": "markdown",
   "id": "a848d499",
   "metadata": {
    "papermill": {
     "duration": 0.01233,
     "end_time": "2023-04-15T05:47:32.318236",
     "exception": false,
     "start_time": "2023-04-15T05:47:32.305906",
     "status": "completed"
    },
    "tags": []
   },
   "source": [
    " > It can be observed that the residuals are random and have no funnel shape , which means the residuals have constant variance (homoscedasticity)"
   ]
  },
  {
   "cell_type": "markdown",
   "id": "9482ca4e",
   "metadata": {
    "papermill": {
     "duration": 0.011371,
     "end_time": "2023-04-15T05:47:32.340961",
     "exception": false,
     "start_time": "2023-04-15T05:47:32.329590",
     "status": "completed"
    },
    "tags": []
   },
   "source": [
    "# **Outlier Analysis**"
   ]
  },
  {
   "cell_type": "markdown",
   "id": "e2cb0f82",
   "metadata": {
    "papermill": {
     "duration": 0.010468,
     "end_time": "2023-04-15T05:47:32.362984",
     "exception": false,
     "start_time": "2023-04-15T05:47:32.352516",
     "status": "completed"
    },
    "tags": []
   },
   "source": [
    "# **1.Z-Score**"
   ]
  },
  {
   "cell_type": "code",
   "execution_count": 14,
   "id": "67bc30ca",
   "metadata": {
    "execution": {
     "iopub.execute_input": "2023-04-15T05:47:32.382128Z",
     "iopub.status.busy": "2023-04-15T05:47:32.381763Z",
     "iopub.status.idle": "2023-04-15T05:47:32.396427Z",
     "shell.execute_reply": "2023-04-15T05:47:32.395537Z"
    },
    "papermill": {
     "duration": 0.026779,
     "end_time": "2023-04-15T05:47:32.398715",
     "exception": false,
     "start_time": "2023-04-15T05:47:32.371936",
     "status": "completed"
    },
    "tags": []
   },
   "outputs": [
    {
     "data": {
      "text/html": [
       "<div>\n",
       "<style scoped>\n",
       "    .dataframe tbody tr th:only-of-type {\n",
       "        vertical-align: middle;\n",
       "    }\n",
       "\n",
       "    .dataframe tbody tr th {\n",
       "        vertical-align: top;\n",
       "    }\n",
       "\n",
       "    .dataframe thead th {\n",
       "        text-align: right;\n",
       "    }\n",
       "</style>\n",
       "<table border=\"1\" class=\"dataframe\">\n",
       "  <thead>\n",
       "    <tr style=\"text-align: right;\">\n",
       "      <th></th>\n",
       "      <th>YearsExperience</th>\n",
       "      <th>Salary</th>\n",
       "      <th>z_score_salary</th>\n",
       "    </tr>\n",
       "  </thead>\n",
       "  <tbody>\n",
       "  </tbody>\n",
       "</table>\n",
       "</div>"
      ],
      "text/plain": [
       "Empty DataFrame\n",
       "Columns: [YearsExperience, Salary, z_score_salary]\n",
       "Index: []"
      ]
     },
     "execution_count": 14,
     "metadata": {},
     "output_type": "execute_result"
    }
   ],
   "source": [
    "from scipy.stats import zscore\n",
    "data['z_score_salary'] = zscore(data.Salary)\n",
    "data[(data.z_score_salary > 3.0) | (data.z_score_salary < -3.0)]"
   ]
  },
  {
   "cell_type": "markdown",
   "id": "1af73ebf",
   "metadata": {
    "papermill": {
     "duration": 0.008666,
     "end_time": "2023-04-15T05:47:32.417779",
     "exception": false,
     "start_time": "2023-04-15T05:47:32.409113",
     "status": "completed"
    },
    "tags": []
   },
   "source": [
    "> There are no observations that are outliers as per Z-Score"
   ]
  },
  {
   "cell_type": "markdown",
   "id": "88acef70",
   "metadata": {
    "papermill": {
     "duration": 0.009113,
     "end_time": "2023-04-15T05:47:32.435782",
     "exception": false,
     "start_time": "2023-04-15T05:47:32.426669",
     "status": "completed"
    },
    "tags": []
   },
   "source": [
    "# **2.Cook's Distance**"
   ]
  },
  {
   "cell_type": "code",
   "execution_count": 15,
   "id": "ed693860",
   "metadata": {
    "execution": {
     "iopub.execute_input": "2023-04-15T05:47:32.456480Z",
     "iopub.status.busy": "2023-04-15T05:47:32.454894Z",
     "iopub.status.idle": "2023-04-15T05:47:32.645287Z",
     "shell.execute_reply": "2023-04-15T05:47:32.644423Z"
    },
    "papermill": {
     "duration": 0.20314,
     "end_time": "2023-04-15T05:47:32.648121",
     "exception": false,
     "start_time": "2023-04-15T05:47:32.444981",
     "status": "completed"
    },
    "tags": []
   },
   "outputs": [
    {
     "data": {
      "text/plain": [
       "Text(0, 0.5, 'Cooks Distance')"
      ]
     },
     "execution_count": 15,
     "metadata": {},
     "output_type": "execute_result"
    },
    {
     "data": {
      "image/png": "[encoded data removed]",
      "text/plain": [
       "<Figure size 640x480 with 1 Axes>"
      ]
     },
     "metadata": {},
     "output_type": "display_data"
    }
   ],
   "source": [
    "data_influence = salary_lm.get_influence()\n",
    "(c,p) = data_influence.cooks_distance\n",
    "plt.stem(np.arange(len(X_train)), np.round(c,3) , markerfmt=\",\")\n",
    "plt.xlabel(\"Row index\")\n",
    "plt.ylabel(\"Cooks Distance\")"
   ]
  },
  {
   "cell_type": "markdown",
   "id": "960a5c57",
   "metadata": {
    "papermill": {
     "duration": 0.011045,
     "end_time": "2023-04-15T05:47:32.670909",
     "exception": false,
     "start_time": "2023-04-15T05:47:32.659864",
     "status": "completed"
    },
    "tags": []
   },
   "source": [
    "> It can be observed that 2 of the observations' Cook distance exceed 1 and hence they are outliers "
   ]
  },
  {
   "cell_type": "code",
   "execution_count": 16,
   "id": "98120ca6",
   "metadata": {
    "execution": {
     "iopub.execute_input": "2023-04-15T05:47:32.698870Z",
     "iopub.status.busy": "2023-04-15T05:47:32.698218Z",
     "iopub.status.idle": "2023-04-15T05:47:32.704798Z",
     "shell.execute_reply": "2023-04-15T05:47:32.703707Z"
    },
    "papermill": {
     "duration": 0.02569,
     "end_time": "2023-04-15T05:47:32.708199",
     "exception": false,
     "start_time": "2023-04-15T05:47:32.682509",
     "status": "completed"
    },
    "tags": []
   },
   "outputs": [
    {
     "data": {
      "text/plain": [
       "'\\nX_train = X_train.drop([7,19] , axis=0)\\ny_train = y_train.drop([7,19] , axis=0)\\n'"
      ]
     },
     "execution_count": 16,
     "metadata": {},
     "output_type": "execute_result"
    }
   ],
   "source": [
    "'''\n",
    "X_train = X_train.drop([7,19] , axis=0)\n",
    "y_train = y_train.drop([7,19] , axis=0)\n",
    "'''"
   ]
  },
  {
   "cell_type": "markdown",
   "id": "919ee35e",
   "metadata": {
    "papermill": {
     "duration": 0.009131,
     "end_time": "2023-04-15T05:47:32.726873",
     "exception": false,
     "start_time": "2023-04-15T05:47:32.717742",
     "status": "completed"
    },
    "tags": []
   },
   "source": [
    "# **3.Leverage values**"
   ]
  },
  {
   "cell_type": "code",
   "execution_count": 17,
   "id": "506bf2ca",
   "metadata": {
    "execution": {
     "iopub.execute_input": "2023-04-15T05:47:32.747753Z",
     "iopub.status.busy": "2023-04-15T05:47:32.746903Z",
     "iopub.status.idle": "2023-04-15T05:47:32.963118Z",
     "shell.execute_reply": "2023-04-15T05:47:32.962140Z"
    },
    "papermill": {
     "duration": 0.228999,
     "end_time": "2023-04-15T05:47:32.965371",
     "exception": false,
     "start_time": "2023-04-15T05:47:32.736372",
     "status": "completed"
    },
    "tags": []
   },
   "outputs": [
    {
     "data": {
      "image/png": "[encoded data removed]",
      "text/plain": [
       "<Figure size 1000x800 with 1 Axes>"
      ]
     },
     "metadata": {},
     "output_type": "display_data"
    }
   ],
   "source": [
    "from statsmodels.graphics.regressionplots import influence_plot\n",
    "fig ,ax = plt.subplots(figsize=(10,8))\n",
    "influence_plot( salary_lm , ax=ax)\n",
    "plt.show()"
   ]
  },
  {
   "cell_type": "markdown",
   "id": "08300274",
   "metadata": {
    "papermill": {
     "duration": 0.009563,
     "end_time": "2023-04-15T05:47:32.988405",
     "exception": false,
     "start_time": "2023-04-15T05:47:32.978842",
     "status": "completed"
    },
    "tags": []
   },
   "source": [
    "> The size of the circle is proportional to the product of residual and leverage values , larger the circle , the larger\n",
    "the residual and hence larger the influence of the observation"
   ]
  },
  {
   "cell_type": "markdown",
   "id": "114a6fa9",
   "metadata": {
    "papermill": {
     "duration": 0.009497,
     "end_time": "2023-04-15T05:47:33.008001",
     "exception": false,
     "start_time": "2023-04-15T05:47:32.998504",
     "status": "completed"
    },
    "tags": []
   },
   "source": [
    "# **Prediction**"
   ]
  },
  {
   "cell_type": "code",
   "execution_count": 18,
   "id": "887ffb54",
   "metadata": {
    "execution": {
     "iopub.execute_input": "2023-04-15T05:47:33.029750Z",
     "iopub.status.busy": "2023-04-15T05:47:33.029063Z",
     "iopub.status.idle": "2023-04-15T05:47:33.034697Z",
     "shell.execute_reply": "2023-04-15T05:47:33.033148Z"
    },
    "papermill": {
     "duration": 0.020439,
     "end_time": "2023-04-15T05:47:33.038304",
     "exception": false,
     "start_time": "2023-04-15T05:47:33.017865",
     "status": "completed"
    },
    "tags": []
   },
   "outputs": [],
   "source": [
    "y_pred = salary_lm.predict(X_test)"
   ]
  },
  {
   "cell_type": "markdown",
   "id": "668e9797",
   "metadata": {
    "papermill": {
     "duration": 0.009193,
     "end_time": "2023-04-15T05:47:33.057506",
     "exception": false,
     "start_time": "2023-04-15T05:47:33.048313",
     "status": "completed"
    },
    "tags": []
   },
   "source": [
    "# **Finding R-Squared and RMSE**"
   ]
  },
  {
   "cell_type": "code",
   "execution_count": 19,
   "id": "5d94a34a",
   "metadata": {
    "execution": {
     "iopub.execute_input": "2023-04-15T05:47:33.079347Z",
     "iopub.status.busy": "2023-04-15T05:47:33.078925Z",
     "iopub.status.idle": "2023-04-15T05:47:33.087667Z",
     "shell.execute_reply": "2023-04-15T05:47:33.086533Z"
    },
    "papermill": {
     "duration": 0.022704,
     "end_time": "2023-04-15T05:47:33.089807",
     "exception": false,
     "start_time": "2023-04-15T05:47:33.067103",
     "status": "completed"
    },
    "tags": []
   },
   "outputs": [
    {
     "data": {
      "text/plain": [
       "0.9414466227178215"
      ]
     },
     "execution_count": 19,
     "metadata": {},
     "output_type": "execute_result"
    }
   ],
   "source": [
    "from sklearn.metrics import r2_score , mean_squared_error\n",
    "r2_score(y_test , y_pred)\n",
    "#r2_score(y_pred , y_test) slightly different"
   ]
  },
  {
   "cell_type": "code",
   "execution_count": 20,
   "id": "5e36bb47",
   "metadata": {
    "execution": {
     "iopub.execute_input": "2023-04-15T05:47:33.112106Z",
     "iopub.status.busy": "2023-04-15T05:47:33.111733Z",
     "iopub.status.idle": "2023-04-15T05:47:33.120257Z",
     "shell.execute_reply": "2023-04-15T05:47:33.118627Z"
    },
    "papermill": {
     "duration": 0.022592,
     "end_time": "2023-04-15T05:47:33.122765",
     "exception": false,
     "start_time": "2023-04-15T05:47:33.100173",
     "status": "completed"
    },
    "tags": []
   },
   "outputs": [
    {
     "data": {
      "text/plain": [
       "6146.923007994572"
      ]
     },
     "execution_count": 20,
     "metadata": {},
     "output_type": "execute_result"
    }
   ],
   "source": [
    "np.sqrt(mean_squared_error(y_test , y_pred))"
   ]
  }
 ],
 "metadata": {
  "kernelspec": {
   "display_name": "Python 3",
   "language": "python",
   "name": "python3"
  },
  "language_info": {
   "codemirror_mode": {
    "name": "ipython",
    "version": 3
   },
   "file_extension": ".py",
   "mimetype": "text/x-python",
   "name": "python",
   "nbconvert_exporter": "python",
   "pygments_lexer": "ipython3",
   "version": "3.7.12"
  },
  "papermill": {
   "default_parameters": {},
   "duration": 14.177778,
   "end_time": "2023-04-15T05:47:33.854276",
   "environment_variables": {},
   "exception": null,
   "input_path": "__notebook__.ipynb",
   "output_path": "__notebook__.ipynb",
   "parameters": {},
   "start_time": "2023-04-15T05:47:19.676498",
   "version": "2.4.0"
  }
 },
 "nbformat": 4,
 "nbformat_minor": 5
}
